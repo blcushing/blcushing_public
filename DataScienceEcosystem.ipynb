{
 "cells": [
  {
   "cell_type": "markdown",
   "id": "320cabae-e157-4030-892b-bade71930c72",
   "metadata": {},
   "source": [
    "# Data Science Tools and Ecosystem"
   ]
  },
  {
   "cell_type": "markdown",
   "id": "44127ce0-aa87-43e4-8b8c-e268d7eb4b95",
   "metadata": {},
   "source": [
    "## In this notebook, Data Science Tools and Ecosystem are summarized."
   ]
  },
  {
   "cell_type": "markdown",
   "id": "99264b2d-5b3b-4917-93b0-dc5532e0e94d",
   "metadata": {},
   "source": [
    "**Objectives**\n",
    "- Create a Jupyter notebook\n",
    "- Create markdown cell with title of the notebook\n",
    "- Create a markdown cell for an introduction"
   ]
  },
  {
   "cell_type": "markdown",
   "id": "d0ed85d5-8c48-4bf2-85bb-3cd77abb889e",
   "metadata": {},
   "source": [
    "### Some of the popular languages that Data Scientists use are:\n",
    "1. Python\n",
    "2. R\n",
    "3. Fortran"
   ]
  },
  {
   "cell_type": "markdown",
   "id": "e08bf141-3dd2-4272-aa39-22b308f00144",
   "metadata": {},
   "source": [
    "Some of the commonly used libraries used by Data Scientists include:\n",
    "1. Pandas\n",
    "2. Numpy\n",
    "3. TensorFlow\n"
   ]
  },
  {
   "cell_type": "markdown",
   "id": "7016a4c3-fcab-485f-9827-c6f5ab559a2b",
   "metadata": {},
   "source": [
    "| Data Science Tools |\n",
    "| ----------|\n",
    "| Anaconda |\n",
    "| Jupyter Notebooks |\n",
    "| PyTorch |\n"
   ]
  },
  {
   "cell_type": "markdown",
   "id": "5e9ddae8-112b-47d7-ade6-83e8089ef2b3",
   "metadata": {},
   "source": [
    "### Below are a few examples of evaluating arithmetic expressions in Python\n"
   ]
  },
  {
   "cell_type": "code",
   "execution_count": 18,
   "id": "07d8aece-557f-4467-840b-0ff7374cac73",
   "metadata": {},
   "outputs": [
    {
     "data": {
      "text/plain": [
       "17"
      ]
     },
     "execution_count": 18,
     "metadata": {},
     "output_type": "execute_result"
    }
   ],
   "source": [
    "# This a simple arithmetic expression to mutiply then add integers\n",
    "(3*4)+5\n"
   ]
  },
  {
   "cell_type": "code",
   "execution_count": 20,
   "id": "e683676f-0fb1-4591-a1f5-70e30a23391e",
   "metadata": {},
   "outputs": [
    {
     "data": {
      "text/plain": [
       "3.3333333333333335"
      ]
     },
     "execution_count": 20,
     "metadata": {},
     "output_type": "execute_result"
    }
   ],
   "source": [
    "# This will convert 200 minutes to hours by diving by 60\n",
    "200/60\n"
   ]
  },
  {
   "cell_type": "markdown",
   "id": "bf5b3ce5-25ff-45d8-a1c8-c2d7730295f0",
   "metadata": {},
   "source": [
    "## Author\n",
    "Brian Cushing\n"
   ]
  }
 ],
 "metadata": {
  "kernelspec": {
   "display_name": "Python 3 (ipykernel)",
   "language": "python",
   "name": "python3"
  },
  "language_info": {
   "codemirror_mode": {
    "name": "ipython",
    "version": 3
   },
   "file_extension": ".py",
   "mimetype": "text/x-python",
   "name": "python",
   "nbconvert_exporter": "python",
   "pygments_lexer": "ipython3",
   "version": "3.12.4"
  }
 },
 "nbformat": 4,
 "nbformat_minor": 5
}
